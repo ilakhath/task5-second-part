{
 "cells": [
  {
   "cell_type": "code",
   "execution_count": 1,
   "id": "23c2f65a",
   "metadata": {},
   "outputs": [],
   "source": [
    "#.family members details using dict"
   ]
  },
  {
   "cell_type": "code",
   "execution_count": 2,
   "id": "d956e055",
   "metadata": {},
   "outputs": [],
   "source": [
    "family_members={\"yousuf\",\"fathima\",\"ayub\",\"ayesha\",\"liyakhath\",\"sardar\",\n",
    "               \"gouse\",\"shabana\",\"basith\",\"sadath\",\"gulzar\"}"
   ]
  },
  {
   "cell_type": "code",
   "execution_count": 3,
   "id": "be3b9fc2",
   "metadata": {},
   "outputs": [
    {
     "data": {
      "text/plain": [
       "{'ayesha',\n",
       " 'ayub',\n",
       " 'basith',\n",
       " 'fathima',\n",
       " 'gouse',\n",
       " 'gulzar',\n",
       " 'liyakhath',\n",
       " 'sadath',\n",
       " 'sardar',\n",
       " 'shabana',\n",
       " 'yousuf'}"
      ]
     },
     "execution_count": 3,
     "metadata": {},
     "output_type": "execute_result"
    }
   ],
   "source": [
    "family_members"
   ]
  },
  {
   "cell_type": "code",
   "execution_count": 4,
   "id": "dfcb3595",
   "metadata": {},
   "outputs": [],
   "source": [
    "f1={\"family_member\" : [\"yousuf\",\"fathima\",\"ayub\",\"ayesha\",\"sardar\",\n",
    "               \"gouse\",\"shabana\",\"basith\",\"sadath\",\"gulzar\"],\"relation\" : [\"dad\",\n",
    "                 \"mom\",\"brother\",\"sister\",\"bro_in_law\",\"niece\",\"niece\",\"son\",\"son\",\"sis_in_law\"]}"
   ]
  },
  {
   "cell_type": "code",
   "execution_count": 5,
   "id": "33e3fcf4",
   "metadata": {},
   "outputs": [
    {
     "data": {
      "text/plain": [
       "{'family_member': ['yousuf',\n",
       "  'fathima',\n",
       "  'ayub',\n",
       "  'ayesha',\n",
       "  'sardar',\n",
       "  'gouse',\n",
       "  'shabana',\n",
       "  'basith',\n",
       "  'sadath',\n",
       "  'gulzar'],\n",
       " 'relation': ['dad',\n",
       "  'mom',\n",
       "  'brother',\n",
       "  'sister',\n",
       "  'bro_in_law',\n",
       "  'niece',\n",
       "  'niece',\n",
       "  'son',\n",
       "  'son',\n",
       "  'sis_in_law']}"
      ]
     },
     "execution_count": 5,
     "metadata": {},
     "output_type": "execute_result"
    }
   ],
   "source": [
    "f1"
   ]
  },
  {
   "cell_type": "code",
   "execution_count": 6,
   "id": "85689b44",
   "metadata": {},
   "outputs": [
    {
     "name": "stdout",
     "output_type": "stream",
     "text": [
      "yousuf\n"
     ]
    }
   ],
   "source": [
    "print(\"yousuf\")"
   ]
  },
  {
   "cell_type": "code",
   "execution_count": 1,
   "id": "a02d7635",
   "metadata": {},
   "outputs": [
    {
     "name": "stdout",
     "output_type": "stream",
     "text": [
      "enter father nameyousuf\n",
      "yousuf\n"
     ]
    }
   ],
   "source": [
    "name=input(\"enter father name\")\n",
    "print(name)"
   ]
  },
  {
   "cell_type": "code",
   "execution_count": 2,
   "id": "aacab684",
   "metadata": {},
   "outputs": [
    {
     "name": "stdout",
     "output_type": "stream",
     "text": [
      "enter father nameyousuf\n"
     ]
    }
   ],
   "source": []
  },
  {
   "cell_type": "code",
   "execution_count": null,
   "id": "2ff14d5d",
   "metadata": {},
   "outputs": [],
   "source": [
    "fav=input(\"enter fav family member\")\n",
    "print(fav)\n",
    "\n"
   ]
  },
  {
   "cell_type": "code",
   "execution_count": null,
   "id": "c5a46436",
   "metadata": {},
   "outputs": [],
   "source": [
    "print(fav)"
   ]
  },
  {
   "cell_type": "code",
   "execution_count": 1,
   "id": "72669055",
   "metadata": {},
   "outputs": [
    {
     "name": "stdout",
     "output_type": "stream",
     "text": [
      "enter fav family membrmom\n",
      "mom\n"
     ]
    }
   ],
   "source": [
    "name=input(\"enter fav family membr\")\n",
    "print(name)"
   ]
  },
  {
   "cell_type": "code",
   "execution_count": 2,
   "id": "1ba9ea9b",
   "metadata": {},
   "outputs": [
    {
     "name": "stdout",
     "output_type": "stream",
     "text": [
      "enter favourite fam memberdad\n",
      "dad\n"
     ]
    }
   ],
   "source": [
    "fav=input(\"enter favourite fam member\")\n",
    "print(fav)"
   ]
  },
  {
   "cell_type": "code",
   "execution_count": 3,
   "id": "20ea86a0",
   "metadata": {},
   "outputs": [],
   "source": [
    "dict1={\"friend_names\" :[\"aslam\",\"khaleel\",\"param\",\"waheed\"],\"quality\" :[\"humour\",\"introvert\"\n",
    "                                                                       \"pationce\",\"speaker\"]}"
   ]
  },
  {
   "cell_type": "code",
   "execution_count": 4,
   "id": "4fe96779",
   "metadata": {},
   "outputs": [
    {
     "data": {
      "text/plain": [
       "{'friend_names': ['aslam', 'khaleel', 'param', 'waheed'],\n",
       " 'quality': ['humour', 'introvertpationce', 'speaker']}"
      ]
     },
     "execution_count": 4,
     "metadata": {},
     "output_type": "execute_result"
    }
   ],
   "source": [
    "dict1"
   ]
  },
  {
   "cell_type": "code",
   "execution_count": 5,
   "id": "fae7f5e9",
   "metadata": {},
   "outputs": [
    {
     "name": "stdout",
     "output_type": "stream",
     "text": [
      "intelligent friend nameparam\n",
      "param\n"
     ]
    }
   ],
   "source": [
    "name=input(\"intelligent friend name\")\n",
    "print(name)"
   ]
  },
  {
   "cell_type": "code",
   "execution_count": 6,
   "id": "f96789a6",
   "metadata": {},
   "outputs": [
    {
     "name": "stdout",
     "output_type": "stream",
     "text": [
      "best friend nameaslam\n",
      "aslam\n"
     ]
    }
   ],
   "source": [
    "name=input(\"best friend name\")\n",
    "print(name)"
   ]
  },
  {
   "cell_type": "code",
   "execution_count": 7,
   "id": "60a461ae",
   "metadata": {},
   "outputs": [],
   "source": [
    "dict2={\"veg_items\" : [\"aalu\",\"tomato\",\"gongura\",\"totakura\",\"pappu\",\"bhendi\"],\"rating\" : [3,5,3,4,5,3],\"non_veg\" : [\"chiken\",\n",
    "                                                                                         \"chillichiken\",\"mutton\",\"eggs\",\"aamlt\",\"fish\"],\"ratings\" : [4,5,4,5,4,3]}"
   ]
  },
  {
   "cell_type": "code",
   "execution_count": 8,
   "id": "d278b8c3",
   "metadata": {},
   "outputs": [
    {
     "data": {
      "text/plain": [
       "{'veg_items': ['aalu', 'tomato', 'gongura', 'totakura', 'pappu', 'bhendi'],\n",
       " 'rating': [3, 5, 3, 4, 5, 3],\n",
       " 'non_veg': ['chiken', 'chillichiken', 'mutton', 'eggs', 'aamlt', 'fish'],\n",
       " 'ratings': [4, 5, 4, 5, 4, 3]}"
      ]
     },
     "execution_count": 8,
     "metadata": {},
     "output_type": "execute_result"
    }
   ],
   "source": [
    "dict2"
   ]
  },
  {
   "cell_type": "code",
   "execution_count": null,
   "id": "07532359",
   "metadata": {},
   "outputs": [],
   "source": [
    "#prnt a programme to rating food name"
   ]
  },
  {
   "cell_type": "code",
   "execution_count": 9,
   "id": "10d9f1f6",
   "metadata": {},
   "outputs": [
    {
     "name": "stdout",
     "output_type": "stream",
     "text": [
      "enter 1 rating food namemutton\n",
      "mutton\n"
     ]
    }
   ],
   "source": [
    "name=input(\"enter 1 rating food name\")\n",
    "print(name)"
   ]
  },
  {
   "cell_type": "code",
   "execution_count": null,
   "id": "6518dc09",
   "metadata": {},
   "outputs": [],
   "source": [
    "#favourite destination cities"
   ]
  },
  {
   "cell_type": "code",
   "execution_count": 11,
   "id": "0d074877",
   "metadata": {},
   "outputs": [],
   "source": [
    "dict3={\"city_name\" : [\"madina\",\"macca\",\"bagdhad\",\"azmeer\",\"up\",\"mumbai\",\"delhi\"],\"rating\" : [5,5,5,5,5,5,5]}"
   ]
  },
  {
   "cell_type": "code",
   "execution_count": 12,
   "id": "e3bafce1",
   "metadata": {},
   "outputs": [
    {
     "data": {
      "text/plain": [
       "{'city_name': ['madina',\n",
       "  'macca',\n",
       "  'bagdhad',\n",
       "  'azmeer',\n",
       "  'up',\n",
       "  'mumbai',\n",
       "  'delhi'],\n",
       " 'rating': [5, 5, 5, 5, 5, 5, 5]}"
      ]
     },
     "execution_count": 12,
     "metadata": {},
     "output_type": "execute_result"
    }
   ],
   "source": [
    "dict3"
   ]
  },
  {
   "cell_type": "code",
   "execution_count": 20,
   "id": "2aea1233",
   "metadata": {},
   "outputs": [
    {
     "name": "stdout",
     "output_type": "stream",
     "text": [
      "madina5\n",
      "macca5\n",
      "bagdad5\n",
      "5 5 5\n"
     ]
    }
   ],
   "source": [
    "rate=input(\"madina\")\n",
    "rate=input(\"macca\")\n",
    "rate=input(\"bagdad\")\n",
    "print(rate,rate,rate)"
   ]
  },
  {
   "cell_type": "code",
   "execution_count": null,
   "id": "e5a694d0",
   "metadata": {},
   "outputs": [],
   "source": []
  },
  {
   "cell_type": "code",
   "execution_count": null,
   "id": "1b518d4b",
   "metadata": {},
   "outputs": [],
   "source": []
  },
  {
   "cell_type": "code",
   "execution_count": null,
   "id": "313561ef",
   "metadata": {},
   "outputs": [],
   "source": []
  },
  {
   "cell_type": "code",
   "execution_count": null,
   "id": "0b3c65d2",
   "metadata": {},
   "outputs": [],
   "source": []
  },
  {
   "cell_type": "code",
   "execution_count": null,
   "id": "f1993aa0",
   "metadata": {},
   "outputs": [],
   "source": []
  }
 ],
 "metadata": {
  "kernelspec": {
   "display_name": "Python 3 (ipykernel)",
   "language": "python",
   "name": "python3"
  },
  "language_info": {
   "codemirror_mode": {
    "name": "ipython",
    "version": 3
   },
   "file_extension": ".py",
   "mimetype": "text/x-python",
   "name": "python",
   "nbconvert_exporter": "python",
   "pygments_lexer": "ipython3",
   "version": "3.9.13"
  }
 },
 "nbformat": 4,
 "nbformat_minor": 5
}
